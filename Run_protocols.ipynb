{
 "cells": [
  {
   "cell_type": "markdown",
   "id": "a7b0ceb8",
   "metadata": {},
   "source": [
    "# DQC Project - Protocols for Logical AND"
   ]
  },
  {
   "cell_type": "markdown",
   "id": "bdb143a4",
   "metadata": {},
   "source": [
    "By Elisabeth Mailhot - Internship project summer 2025"
   ]
  },
  {
   "cell_type": "markdown",
   "id": "65b7beec",
   "metadata": {},
   "source": [
    "This notebook presents the implementation of two protocols to compute a logical AND between two inputs using quantum circuits. The first protocol is from Jain, Radhakrishnan, and Sen (https://arxiv.org/pdf/1505.03110) and the second protocol is from Touchette, Lovitz, and Lütkenhaus (https://arxiv.org/pdf/1801.02771). In this case, we have Alice and Bob who both have an input, either 0 or 1. The protocols compute the logical AND between their input. This means that we expect the output to be 0 for (A, B) = (0,0) = (0,1) = (1,0) and 1 for (A, B) = (1,1). The goal is to use these simple protocols to test quantum communication on actual QPUs."
   ]
  },
  {
   "cell_type": "markdown",
   "id": "c50a7f70",
   "metadata": {},
   "source": [
    "In order to do so, we can change different parameters that are included in the declaration of the class of each protocol.\n",
    "- The inputs for Alice and Bob : True for 1 or False for 0\n",
    "- The type of communication : Either \"cnot\" for swaps or \"entanglement\" for entanglement swapping\n",
    "- Simulator : True or False to run on a QPU\n",
    "- Noise : The option to add noise to a simulation\n",
    "- The qubits for Alice and Bob: The index of the qubits for each one. This determines the number of qubits between Alice and Bob and it will use these qubits on the actual chip (the mapping for each QPU is available online)\n",
    "- The backend : The name of the IBM QPU to use if it is not a simulation\n",
    "- R : The number of rounds to do in the protocol"
   ]
  },
  {
   "cell_type": "markdown",
   "id": "44bf25fd",
   "metadata": {},
   "source": [
    "<div class=\"alert alert-block alert-info\">\n",
    "The number of rounds r needs to be odd for the first protocol.\n",
    "\n",
    "For the communication with entanglement swapping, the number of qubits between Alice and Bob needs to be even.\n",
    "</div>"
   ]
  },
  {
   "cell_type": "code",
   "execution_count": null,
   "id": "e5ce4b8c",
   "metadata": {},
   "outputs": [],
   "source": [
    "from Src.AND_protocol_1 import AND_protocol_1\n",
    "from Src.AND_protocol_2 import AND_protocol_2"
   ]
  },
  {
   "cell_type": "markdown",
   "id": "40e8b4a7",
   "metadata": {},
   "source": [
    "## Simulation with no noise"
   ]
  },
  {
   "cell_type": "markdown",
   "id": "3072c136",
   "metadata": {},
   "source": [
    "In this case, the quantum circuits are simulated on the *AerSimulator* with no noise model. This means that the right answer should be outputed all the time for both protocols, no matter the parameters (type of communication, distance between Alice-Bob and r)."
   ]
  },
  {
   "cell_type": "markdown",
   "id": "ffad1031",
   "metadata": {},
   "source": [
    "### Protocol 1"
   ]
  },
  {
   "cell_type": "code",
   "execution_count": null,
   "id": "1827826e",
   "metadata": {},
   "outputs": [],
   "source": [
    "protocol_1 = AND_protocol_1(Alice_input = True,\n",
    "                            Bob_input = True, \n",
    "                            type_communication = \"cnot\",\n",
    "                            qubit_Alice = 0,\n",
    "                            qubit_Bob = 1,\n",
    "                            r = 1\n",
    "                            )\n",
    "\n",
    "protocol_1.execute_first_protocol()"
   ]
  },
  {
   "cell_type": "markdown",
   "id": "945fa535",
   "metadata": {},
   "source": [
    "### Protocol 2"
   ]
  },
  {
   "cell_type": "code",
   "execution_count": null,
   "id": "b1c8e7bd",
   "metadata": {},
   "outputs": [],
   "source": [
    "protocol_2 = AND_protocol_2(Alice_input = True,\n",
    "                            Bob_input = True,\n",
    "                            type_communication = \"entanglement\",\n",
    "                            qubit_Alice = 0,\n",
    "                            qubit_Bob = 3,\n",
    "                            r = 1\n",
    "                            )\n",
    "\n",
    "protocol_2.execute_second_protocol()"
   ]
  },
  {
   "cell_type": "markdown",
   "id": "efd175fd",
   "metadata": {},
   "source": [
    "## Simulation with noise"
   ]
  },
  {
   "cell_type": "markdown",
   "id": "a99bf893",
   "metadata": {},
   "source": [
    "To add noise to the simulation of the quantum circuits, *FakeFez*, a fake backend from the fake providers, is used. This means that the simulation uses a noise model generated from snapshots of the real quantum system. "
   ]
  },
  {
   "cell_type": "markdown",
   "id": "3621e398",
   "metadata": {},
   "source": [
    "### Protocol 1"
   ]
  },
  {
   "cell_type": "code",
   "execution_count": null,
   "id": "4ee11d5c",
   "metadata": {},
   "outputs": [],
   "source": [
    "protocol_1 = AND_protocol_1(Alice_input = True,\n",
    "                            Bob_input = False, \n",
    "                            type_communication = \"entanglement\",\n",
    "                            simulator = True,\n",
    "                            noise = True,\n",
    "                            qubit_Alice = 0,\n",
    "                            qubit_Bob = 3,\n",
    "                            r = 1\n",
    "                            )\n",
    "\n",
    "protocol_1.execute_first_protocol()"
   ]
  },
  {
   "cell_type": "markdown",
   "id": "41741770",
   "metadata": {},
   "source": [
    "### Protocol 2"
   ]
  },
  {
   "cell_type": "code",
   "execution_count": null,
   "id": "40f71691",
   "metadata": {},
   "outputs": [],
   "source": [
    "protocol_2 = AND_protocol_2(Alice_input = False,\n",
    "                            Bob_input = False, \n",
    "                            type_communication = \"cnot\",\n",
    "                            simulator = True,\n",
    "                            noise = True,\n",
    "                            qubit_Alice = 0,\n",
    "                            qubit_Bob = 1,\n",
    "                            r = 2\n",
    "                            )\n",
    "\n",
    "protocol_2.execute_second_protocol()"
   ]
  },
  {
   "cell_type": "markdown",
   "id": "5c4cc2d9",
   "metadata": {},
   "source": [
    "## IBM's Backend"
   ]
  },
  {
   "cell_type": "markdown",
   "id": "e1209a13",
   "metadata": {},
   "source": [
    "This section allows to run the quantum circuits on the actual IBM QPU. To do so you need an IBM Cloud account in order to access the Qiskit Runtime Service. To execute this code you need to specify your token and your instance, if you have one, in the method *execute_backend* (first line) from the *Functions.py* file. Specify the name of a backend you have access to when declaring the class and the protocol will be run on an actual QPU via cloud!"
   ]
  },
  {
   "cell_type": "markdown",
   "id": "f6f8b33c",
   "metadata": {},
   "source": [
    "### Protocol 1"
   ]
  },
  {
   "cell_type": "code",
   "execution_count": null,
   "id": "74d37b23",
   "metadata": {},
   "outputs": [],
   "source": [
    "protocol_1 = AND_protocol_1(Alice_input = True,\n",
    "                            Bob_input = False, \n",
    "                            type_communication = \"cnot\",\n",
    "                            simulator = False,\n",
    "                            qubit_Alice = 0,\n",
    "                            qubit_Bob = 1,\n",
    "                            backend = \"ibm_pittsburgh\",\n",
    "                            r = 1\n",
    "                            )\n",
    "\n",
    "protocol_1.execute_first_protocol()"
   ]
  },
  {
   "cell_type": "markdown",
   "id": "cb5f04a4",
   "metadata": {},
   "source": [
    "### Protocol 2"
   ]
  },
  {
   "cell_type": "code",
   "execution_count": null,
   "id": "435ceb27",
   "metadata": {},
   "outputs": [],
   "source": [
    "protocol_2 = AND_protocol_2(Alice_input = True,\n",
    "                            Bob_input = False, \n",
    "                            type_communication = \"entanglement\",\n",
    "                            simulator = False,\n",
    "                            qubit_Alice = 0,\n",
    "                            qubit_Bob = 3,\n",
    "                            backend = \"ibm_fez\",\n",
    "                            r = 1\n",
    "                            )\n",
    "\n",
    "protocol_2.execute_second_protocol()"
   ]
  },
  {
   "cell_type": "markdown",
   "id": "c1743588",
   "metadata": {},
   "source": [
    "## Majority Vote"
   ]
  },
  {
   "cell_type": "markdown",
   "id": "8c1225c8",
   "metadata": {},
   "source": [
    "In order to increase the probability of obtaining the right output, we can do a majority vote. This will execute the protocol 3 times and chose the most frequent output as the answer."
   ]
  },
  {
   "cell_type": "markdown",
   "id": "15ef9ba0",
   "metadata": {},
   "source": [
    "### Protocol 1"
   ]
  },
  {
   "cell_type": "code",
   "execution_count": null,
   "id": "22b8f9b4",
   "metadata": {},
   "outputs": [],
   "source": [
    "protocol_1 = AND_protocol_1(Alice_input = True,\n",
    "                            Bob_input = True, \n",
    "                            type_communication = \"cnot\",\n",
    "                            simulator = True,\n",
    "                            noise = True,\n",
    "                            qubit_Alice = 0,\n",
    "                            qubit_Bob = 3,\n",
    "                            r = 1\n",
    "                            )\n",
    "\n",
    "protocol_1.majority_vote()"
   ]
  },
  {
   "cell_type": "markdown",
   "id": "94972855",
   "metadata": {},
   "source": [
    "### Protocol 2"
   ]
  },
  {
   "cell_type": "code",
   "execution_count": null,
   "id": "99de5735",
   "metadata": {},
   "outputs": [],
   "source": [
    "protocol_2 = AND_protocol_2(Alice_input = True,\n",
    "                            Bob_input = True, \n",
    "                            type_communication = \"cnot\",\n",
    "                            simulator = True,\n",
    "                            noise = True,\n",
    "                            qubit_Alice = 0,\n",
    "                            qubit_Bob = 3,\n",
    "                            r = 3\n",
    "                            )\n",
    "\n",
    "protocol_2.majority_vote()"
   ]
  },
  {
   "cell_type": "markdown",
   "id": "de8d747c",
   "metadata": {},
   "source": [
    "## Compute the Communication cost"
   ]
  },
  {
   "cell_type": "markdown",
   "id": "6767ef92",
   "metadata": {},
   "source": [
    "We can compute the communication cost of each protocol as described in their respecting paper with the following methods. This only takes into consideration the number of rounds r. The inputs of Alice and Bob as well as the type of communication does not affect the information cost."
   ]
  },
  {
   "cell_type": "markdown",
   "id": "d10fd050",
   "metadata": {},
   "source": [
    "### Protocol 1"
   ]
  },
  {
   "cell_type": "code",
   "execution_count": null,
   "id": "69dfa697",
   "metadata": {},
   "outputs": [],
   "source": [
    "protocol_1 = AND_protocol_1(Alice_input = True,\n",
    "                            Bob_input = False, \n",
    "                            type_communication = \"cnot\",\n",
    "                            r = 1\n",
    "                            )\n",
    "\n",
    "comm_cost = protocol_1.communication_cost_protocol1()\n",
    "print(f\"The communication cost for protocol 1 with r = {protocol_1.r} is {comm_cost}\")"
   ]
  },
  {
   "cell_type": "markdown",
   "id": "088cb9e9",
   "metadata": {},
   "source": [
    "### Protocol 2"
   ]
  },
  {
   "cell_type": "code",
   "execution_count": null,
   "id": "a559de48",
   "metadata": {},
   "outputs": [],
   "source": [
    "protocol_2 = AND_protocol_2(Alice_input = True,\n",
    "                            Bob_input = False, \n",
    "                            type_communication = \"cnot\",\n",
    "                            r = 3\n",
    "                            )\n",
    "\n",
    "comm_cost = protocol_2.communication_cost_protocol2()\n",
    "print(f\"The communication cost for protocol 2 with r = {protocol_2.r} is {comm_cost}\")"
   ]
  }
 ],
 "metadata": {
  "kernelspec": {
   "display_name": ".venv",
   "language": "python",
   "name": "python3"
  },
  "language_info": {
   "codemirror_mode": {
    "name": "ipython",
    "version": 3
   },
   "file_extension": ".py",
   "mimetype": "text/x-python",
   "name": "python",
   "nbconvert_exporter": "python",
   "pygments_lexer": "ipython3",
   "version": "3.9.13"
  }
 },
 "nbformat": 4,
 "nbformat_minor": 5
}
