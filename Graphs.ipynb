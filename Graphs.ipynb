{
 "cells": [
  {
   "cell_type": "markdown",
   "id": "69c47093",
   "metadata": {},
   "source": [
    "# DQC project - Graphs for the AND protocols"
   ]
  },
  {
   "cell_type": "code",
   "execution_count": null,
   "id": "0bd8ead6",
   "metadata": {},
   "outputs": [],
   "source": [
    "import numpy as np\n",
    "import matplotlib.pyplot as plt\n",
    "from sklearn.linear_model import LinearRegression"
   ]
  },
  {
   "cell_type": "markdown",
   "id": "34346bcc",
   "metadata": {},
   "source": [
    "## Communication cost"
   ]
  },
  {
   "cell_type": "markdown",
   "id": "8f798a3d",
   "metadata": {},
   "source": [
    "### Protocol 1"
   ]
  },
  {
   "cell_type": "code",
   "execution_count": null,
   "id": "d07df339",
   "metadata": {},
   "outputs": [],
   "source": [
    "x = [1, 3, 5, 7, 9]\n",
    "\n",
    "y_11 = [1.2017520733857123, 0.93330651460374, 0.7467879063030078, 0.6254304194819218, 0.5406096658224356]\n",
    "case_11 = plt.scatter(x, y_11, c=\"r\")\n",
    "\n",
    "plt.title(\"Communication cost for the protocol 1 depending on the number of iterations r\")\n",
    "plt.xlabel(\"Number of iterations r\")\n",
    "plt.ylabel(\"Communication cost\")"
   ]
  },
  {
   "cell_type": "markdown",
   "id": "45cb627b",
   "metadata": {},
   "source": [
    "### Protocol 2"
   ]
  },
  {
   "cell_type": "code",
   "execution_count": null,
   "id": "f601184b",
   "metadata": {},
   "outputs": [],
   "source": [
    "x = [1, 2, 3, 4, 5, 6, 7, 8, 9]\n",
    "\n",
    "y = [1.0, 0.8112781244591328, 0.6695534950605548, 0.5729280022587564, 0.5027849986500541, 0.44935621857589425, 0.40716615328576344, 0.3729151427947929, 0.344493817595727]\n",
    "case_11 = plt.scatter(x, y, c=\"r\")\n",
    "\n",
    "\n",
    "plt.title(\"Communication cost for the protocol 2 depending on the number of iterations r\")\n",
    "plt.xlabel(\"Number of iterations r\")\n",
    "plt.ylabel(\"Communication cost\")"
   ]
  },
  {
   "cell_type": "markdown",
   "id": "2e1e9a24",
   "metadata": {},
   "source": [
    "## Error rate depending on the number of rounds r"
   ]
  },
  {
   "cell_type": "markdown",
   "id": "49afe501",
   "metadata": {},
   "source": [
    "### Protocol 1"
   ]
  },
  {
   "cell_type": "code",
   "execution_count": null,
   "id": "f4e689b6",
   "metadata": {},
   "outputs": [],
   "source": [
    "x = np.array([1, 11, 21, 31, 41, 51, 61, 71, 81, 91, 101]).reshape((-1, 1))\n",
    "model = LinearRegression()\n",
    "\n",
    "# Case for (A, B) = (1, 1)\n",
    "y_11 = [32, 100, 180, 342, 358, 407, 568, 525, 544, 751, 718]\n",
    "case_11 = plt.scatter(x, y_11, c=\"r\")\n",
    "case_11.set_label('(A, B) = (1, 1)')\n",
    "\n",
    "model.fit(x, y_11)\n",
    "x11_line = np.linspace(x.min(), x.max(), 100)\n",
    "y11_line = model.predict(x11_line.reshape(-1, 1))\n",
    "plt.plot(x11_line, y11_line, color=\"r\")\n",
    "\n",
    "# Case for (A, B) = (1, 0)\n",
    "y_10 = [(1000 - 953), (1000 - 973), (1000 - 948), (1000 - 903), (1000 - 886), (1000 - 792), (1000 - 899), (1000 - 874), (1000 - 808), (1000 - 761), (1000 - 771)]\n",
    "case_10 = plt.scatter(x, y_10, c=\"b\")\n",
    "case_10.set_label(\"(A, B) = (1, 0)\")\n",
    "\n",
    "model.fit(x, y_10)\n",
    "x10_line = np.linspace(x.min(), x.max(), 100)\n",
    "y10_line = model.predict(x10_line.reshape(-1, 1))\n",
    "plt.plot(x10_line, y10_line, color=\"b\")\n",
    "\n",
    "# Case for (A, B) = (0, 1)\n",
    "y_01 = [9, 31, 83, 144, 217, 210, 331, 293, 428, 402, 342]\n",
    "case_01 = plt.scatter(x, y_01, c=\"g\")\n",
    "case_01.set_label('(A, B) = (0, 1)')\n",
    "\n",
    "model.fit(x, y_01)\n",
    "x01_line = np.linspace(x.min(), x.max(), 100)\n",
    "y01_line = model.predict(x01_line.reshape(-1, 1))\n",
    "plt.plot(x01_line, y01_line, color=\"g\")\n",
    "\n",
    "# Case (A, B) = (0, 0)\n",
    "y_00 = [8, 30, 77, 194, 203, 242, 231, 217, 341, 238, 247]\n",
    "case_00 = plt.scatter(x, y_00, c=\"m\")\n",
    "case_00.set_label('(A, B) = (0, 0)')\n",
    "\n",
    "model.fit(x, y_00)\n",
    "x00_line = np.linspace(x.min(), x.max(), 100)\n",
    "y00_line = model.predict(x10_line.reshape(-1, 1))\n",
    "plt.plot(x00_line, y00_line, color=\"m\")\n",
    "\n",
    "plt.title(\"Error for the protocol 1 depending on the number of iterations r on IBM Fez\")\n",
    "plt.xlabel(\"Number of iterations r\")\n",
    "plt.ylabel(\"Number of wrong counts on 1000 shots\")\n",
    "plt.legend()"
   ]
  },
  {
   "cell_type": "code",
   "execution_count": null,
   "id": "7f55976b",
   "metadata": {},
   "outputs": [],
   "source": [
    "x = [1, 11, 21, 31, 41, 51, 61, 71, 81, 91, 101]\n",
    "\n",
    "# Case for (A, B) = (1, 1)\n",
    "y_11 = [7, 26, 63, 100, 128, 153, 207, 218, 306, 336, 382]\n",
    "case_11 = plt.scatter(x, y_11, c=\"r\")\n",
    "case_11.set_label('(A, B) = (1, 1)')\n",
    "\n",
    "# Case for (A, B) = (1, 0)\n",
    "y_10 = [2, 4, 5, 4, 5, 14, 12, 9, 23, 37, 35]\n",
    "case_10 = plt.scatter(x, y_10, c=\"b\")\n",
    "case_10.set_label(\"(A, B) = (1, 0)\")\n",
    "\n",
    "# Case for (A, B) = (0, 1)\n",
    "y_01 = [0, 0, 1, 0, 0, 1, 0, 0, 1, 0, 0]\n",
    "case_01 = plt.scatter(x, y_01, c=\"g\")\n",
    "case_01.set_label('(A, B) = (0, 1)')\n",
    "\n",
    "# Case (A, B) = (0, 0)\n",
    "y_00 = [0, 0, 1, 0, 0, 1, 0, 0, 1, 1, 1]\n",
    "case_00 = plt.scatter(x, y_00, c=\"m\")\n",
    "case_00.set_label('(A, B) = (0, 0)')\n",
    "\n",
    "plt.title(\"Error for the protocol 1 on one qubit \\ndepending on the number of iterations r on IBM Kingston\")\n",
    "plt.xlabel(\"Number of iterations r\")\n",
    "plt.ylabel(\"Number of wrong counts on 1000 shots\")\n",
    "plt.legend()"
   ]
  },
  {
   "cell_type": "markdown",
   "id": "0a457b19",
   "metadata": {},
   "source": [
    "High number of rounds r for the case (A, B) = (1, 1)"
   ]
  },
  {
   "cell_type": "code",
   "execution_count": null,
   "id": "2829abb5",
   "metadata": {},
   "outputs": [],
   "source": [
    "x = [1, 11, 21, 31, 41, 51, 61, 71, 81, 91, 101, 111, 121, 131, 141, 151, 161, 171, 181, 191, 201]\n",
    "y = [32, 100, 180, 342, 358, 407, 568, 525, 544, 751, 718, 739, 721, 727, 656, 693, 666, 687, 673, 710, 681]\n",
    "\n",
    "graph = plt.scatter(x, y, c = \"r\")\n",
    "graph.set_label('(A, B) = (1, 1)')\n",
    "\n",
    "plt.title(\"Error for the protocol 1 depending on the number of iterations r on IBM Fez\")\n",
    "plt.xlabel(\"Number of iterations r\")\n",
    "plt.ylabel(\"Number of wrong counts on 1000 shots\")\n",
    "plt.legend(loc = \"upper left\")"
   ]
  },
  {
   "cell_type": "markdown",
   "id": "4fd90768",
   "metadata": {},
   "source": [
    "### Protocol 2"
   ]
  },
  {
   "cell_type": "code",
   "execution_count": null,
   "id": "2f209d7d",
   "metadata": {},
   "outputs": [],
   "source": [
    "x = np.array([1, 11, 21, 31, 41, 51, 61, 71, 81, 91, 101]).reshape((-1, 1))\n",
    "model = LinearRegression() \n",
    "\n",
    "y_00 = [26, 159, 250, 281, 405, 383, 435, 438, 415, 418, 421]\n",
    "case_00 = plt.scatter(x, y_00, c=\"m\")\n",
    "case_00.set_label('(A, B) = (0, 0)')\n",
    "\n",
    "y_10 = [65, 146, 259, 277, 347, 342, 418, 387, 419, 478, 424]\n",
    "case_10 = plt.scatter(x, y_10, c=\"b\")\n",
    "case_10.set_label('(A, B) = (1, 0)')\n",
    "\n",
    "y_01 = [3, 32, 94, 132, 184, 240, 239, 292, 268, 304, 276]\n",
    "case_01 = plt.scatter(x, y_01, c=\"g\")\n",
    "case_01.set_label('(A, B) = (0, 1)')\n",
    "\n",
    "y_11 = [(1000 - 987), (1000 - 909), (1000 - 813), (1000 - 729), (1000 - 691), (1000 - 673), (1000 - 613), (1000 - 559), (1000 - 519), (1000 - 419), (1000 - 341)]\n",
    "case_11 = plt.scatter(x, y_11, c=\"r\")\n",
    "case_11.set_label('(A, B) = (1, 1)')\n",
    "\n",
    "plt.title(\"Error for the protocol 2 depending on the number of iterations r on IBM Fez\")\n",
    "plt.xlabel(\"Number of iterations r\")\n",
    "plt.ylabel(\"Number of wrong counts on 1000 shots\")\n",
    "plt.ylim(-29.67272727272728, 799.1272727272727)\n",
    "plt.legend()"
   ]
  },
  {
   "cell_type": "markdown",
   "id": "44d2de71",
   "metadata": {},
   "source": [
    "With 5 resets"
   ]
  },
  {
   "cell_type": "code",
   "execution_count": null,
   "id": "6181de5d",
   "metadata": {},
   "outputs": [],
   "source": [
    "x = [1, 11, 21, 31, 41, 51, 61, 71, 81, 91, 101]\n",
    "\n",
    "y_00 = [18, 113, 134, 208, 177, 242, 208, 247, 233, 241, 232]\n",
    "case_00 = plt.scatter(x, y_00, c=\"m\")\n",
    "case_00.set_label('(A, B) = (0, 0)')\n",
    "\n",
    "y_10 = [34, 93, 157, 187, 213, 202, 255, 208, 221, 218, 229]\n",
    "case_10 = plt.scatter(x, y_10, c=\"b\")\n",
    "case_10.set_label('(A, B) = (1, 0)')\n",
    "\n",
    "y_01 = [3, 32, 94, 132, 184, 240, 239, 292, 268, 304, 276]\n",
    "case_01 = plt.scatter(x, y_01, c=\"g\")\n",
    "case_01.set_label('(A, B) = (0, 1)')\n",
    "\n",
    "y_11 = [(1000 - 987), (1000 - 909), (1000 - 813), (1000 - 729), (1000 - 691), (1000 - 673), (1000 - 613), (1000 - 559), (1000 - 519), (1000 - 419), (1000 - 341)]\n",
    "case_11 = plt.scatter(x, y_11, c=\"r\")\n",
    "case_11.set_label('(A, B) = (1, 1)')\n",
    "\n",
    "plt.title(\"Error for the protocol 2 depending on the number of iterations r\\n on IBM Fez with multiple resets\")\n",
    "plt.xlabel(\"Number of iterations r\")\n",
    "plt.ylabel(\"Number of wrong counts on 1000 shots\")\n",
    "plt.legend()\n",
    "plt.ylim(-29.67272727272728, 799.1272727272727)"
   ]
  },
  {
   "cell_type": "markdown",
   "id": "795cff10",
   "metadata": {},
   "source": [
    "Trying different number of resets"
   ]
  },
  {
   "cell_type": "code",
   "execution_count": null,
   "id": "f01517f5",
   "metadata": {},
   "outputs": [],
   "source": [
    "x = [1, 11, 21, 31, 41, 51, 61, 71, 81, 91, 101]\n",
    "\n",
    "y_0 = [7, 63, 90, 66, 80, 91, 121, 142, 103, 101, 129]\n",
    "case_0 = plt.scatter(x, y_0, c=\"m\")\n",
    "case_0.set_label('1 reset')\n",
    "\n",
    "y_1 = [5, 49, 46, 83, 70, 92, 99, 101, 110, 106, 92]\n",
    "case_1 = plt.scatter(x, y_1, c=\"b\")\n",
    "case_1.set_label('2 resets')\n",
    "\n",
    "y_3 = [8, 39, 58, 66, 62, 88, 94, 99, 94, 101, 74]\n",
    "case_3 = plt.scatter(x, y_3, c=\"g\")\n",
    "case_3.set_label('3 resets')\n",
    "\n",
    "y_4 = [10, 52, 48, 60, 75, 79, 65, 80, 72, 75, 72]\n",
    "case_4 = plt.scatter(x, y_4, c=\"r\")\n",
    "case_4.set_label('4 resets')\n",
    "\n",
    "y_5 = [16, 39, 58, 75, 57, 70, 71, 69, 87, 62, 87]\n",
    "case_5 = plt.scatter(x, y_5, c=\"y\")\n",
    "case_5.set_label('5 resets')\n",
    "\n",
    "plt.title(\"Error for the protocol 2 for the input (0,0) depending on the number\\n of iterations r on IBM Kingston with multiple resets\")\n",
    "plt.xlabel(\"Number of iterations r\")\n",
    "plt.ylabel(\"Number of wrong counts on 1000 shots\")\n",
    "plt.legend()"
   ]
  },
  {
   "cell_type": "markdown",
   "id": "fb2079c8",
   "metadata": {},
   "source": [
    "Graph for a high number of rounds r for the case (A, B) = (1, 1)"
   ]
  },
  {
   "cell_type": "code",
   "execution_count": null,
   "id": "958c2439",
   "metadata": {},
   "outputs": [],
   "source": [
    "x = [1, 11, 21, 31, 41, 51, 61, 71, 81, 91, 101, 111, 121, 131, 141, 151, 161, 171, 181, 191, 201]\n",
    "y = [(1000 - 987), (1000 - 909), (1000 - 813), (1000 - 729), (1000 - 691), (1000 - 673), (1000 - 613), (1000 - 559), (1000 - 519), (1000 - 419), (1000 - 341), 728, 587, 735, 660, 632, 656, 579, 569, 587, 603]\n",
    "graph = plt.scatter(x, y, c=\"r\")\n",
    "graph.set_label('(A, B) = (1, 1)')\n",
    "plt.title(\"Error for the protocol 2 depending on the number of iterations r on IBM Fez\")\n",
    "plt.xlabel(\"Number of iterations r\")\n",
    "plt.ylabel(\"Number of wrong counts on 1000 shots\")\n",
    "plt.legend(loc=\"upper left\")"
   ]
  },
  {
   "cell_type": "markdown",
   "id": "c54ec1de",
   "metadata": {},
   "source": [
    "## Error rate depending on the type of communication"
   ]
  },
  {
   "cell_type": "markdown",
   "id": "686942d6",
   "metadata": {},
   "source": [
    "### Protocol 1 - Communication with CNOTs"
   ]
  },
  {
   "cell_type": "markdown",
   "id": "452b4ce7",
   "metadata": {},
   "source": [
    "For the input (A, B) = (1, 1) on qubit 0 up to 10 "
   ]
  },
  {
   "cell_type": "code",
   "execution_count": null,
   "id": "4f16a3d5",
   "metadata": {},
   "outputs": [],
   "source": [
    "x = [0, 1, 2, 3, 4, 5, 6, 7, 8, 9]\n",
    "\n",
    "y_1 = [57, 175, 153, 185, 245, 376, 393, 381, 416, 359]\n",
    "y_3 = [167, 720, 689, 734, 785, 768, 749, 739, 685, 719]\n",
    "y_5 = [380, 889, 839, 807, 767, 688, 662, 648, 591, 647]\n",
    "\n",
    "case_1r = plt.scatter(x, y_1, c=\"r\")\n",
    "case_1r.set_label('r = 1')\n",
    "\n",
    "case_3r = plt.scatter(x, y_3, c=\"b\")\n",
    "case_3r.set_label(\"r = 3\")\n",
    "\n",
    "case_5r = plt.scatter(x, y_5, c=\"g\")\n",
    "case_5r.set_label(\"r = 5\")\n",
    "\n",
    "plt.title(\"Error for the protocol 1 (communication with CNOT gates) \\ndepending on the distance between the qubits on IBM Fez\", fontsize = 15)\n",
    "plt.xlabel(\"Number of qubits between Alice and Bob\", fontsize = 10)\n",
    "plt.ylabel(\"Number of wrong counts on 1000 shots\",fontsize = 10)\n",
    "plt.legend(loc=\"lower right\")\n",
    "plt.ylim(18.85, 858.15)"
   ]
  },
  {
   "cell_type": "code",
   "execution_count": null,
   "id": "5ebe8807",
   "metadata": {},
   "outputs": [],
   "source": [
    "x = [0, 1, 2, 3, 4, 5, 6, 7, 8, 9]\n",
    "\n",
    "y_1 = [55, 149, 116, 243, 185, 357, 279, 201, 283, 239]\n",
    "y_3 = [105, 487, 481, 611, 583, 623, 518, 570, 575, 603]\n",
    "y_5 = [341, 673, 816, 777, 725, 589, 663, 667, 603, 605]\n",
    "\n",
    "case_1r = plt.scatter(x, y_1, c=\"r\")\n",
    "case_1r.set_label('r = 1')\n",
    "\n",
    "case_3r = plt.scatter(x, y_3, c=\"b\")\n",
    "case_3r.set_label(\"r = 3\")\n",
    "\n",
    "case_5r = plt.scatter(x, y_5, c=\"g\")\n",
    "case_5r.set_label(\"r = 5\")\n",
    "\n",
    "plt.title(\"Error for the protocol 1 (communication with CNOT gates) \\ndepending on the distance between the qubits on IBM Fez\", fontsize = 15)\n",
    "plt.xlabel(\"Number of qubits between Alice and Bob\", fontsize = 10)\n",
    "plt.ylabel(\"Number of wrong counts on 1000 shots\",fontsize = 10)\n",
    "plt.legend(loc=\"lower right\")\n",
    "plt.ylim(18.85, 858.15)"
   ]
  },
  {
   "cell_type": "markdown",
   "id": "07364483",
   "metadata": {},
   "source": [
    "On simulator with noise"
   ]
  },
  {
   "cell_type": "code",
   "execution_count": null,
   "id": "880762f8",
   "metadata": {},
   "outputs": [],
   "source": [
    "x = [1, 2, 3, 4, 5, 6, 7, 8, 9]\n",
    "\n",
    "y_1 = [50, 59, 69, 77, 97, 137, 139, 141, 133]\n",
    "y_3 = [124, 141, 150, 153, 170, 251, 265, 277, 278]\n",
    "y_5 = [153, 191, 240, 237, 253, 339, 343, 392, 374]\n",
    "\n",
    "case_1r = plt.scatter(x, y_1, c=\"r\")\n",
    "case_1r.set_label('r = 1')\n",
    "\n",
    "case_2r = plt.scatter(x, y_3, c=\"b\")\n",
    "case_2r.set_label(\"r = 3\")\n",
    "\n",
    "case_4r = plt.scatter(x, y_5, c=\"g\")\n",
    "case_4r.set_label(\"r = 5\")\n",
    "\n",
    "plt.title(\"Error for the protocol 1 (CNot) \\ndepending on the distance between the qubits on Fake Fez\", fontsize = 15)\n",
    "plt.xlabel(\"Number of qubits between Alice and Bob\", fontsize = 10)\n",
    "plt.ylim(32.9, 493.05)\n",
    "plt.ylabel(\"Number of wrong counts on 1000 shots\", fontsize = 10)\n",
    "plt.legend(loc = \"upper left\")"
   ]
  },
  {
   "cell_type": "markdown",
   "id": "7130c091",
   "metadata": {},
   "source": [
    "For the input (A, B) = (1, 0)"
   ]
  },
  {
   "cell_type": "code",
   "execution_count": null,
   "id": "832d17c8",
   "metadata": {},
   "outputs": [],
   "source": [
    "x = [0, 1, 2, 3, 4, 5, 6, 7, 8, 9]\n",
    "\n",
    "y_1 = [60, 115, 157, 124, 200, 230, 276, 346, 264, 295]\n",
    "y_3 = [84, 150, 163, 163, 193, 223, 225, 248, 279, 281]\n",
    "y_5 = [56, 104, 164, 175, 184, 224, 265, 305, 395, 367]\n",
    "\n",
    "case_1r = plt.scatter(x, y_1, c=\"r\")\n",
    "case_1r.set_label('r = 1')\n",
    "\n",
    "case_3r = plt.scatter(x, y_3, c=\"b\")\n",
    "case_3r.set_label(\"r = 3\")\n",
    "\n",
    "case_5r = plt.scatter(x, y_5, c=\"g\")\n",
    "case_5r.set_label(\"r = 5\")\n",
    "\n",
    "plt.title(\"Error for the protocol 1 (CNOT gates) for input (1,0)\\ndepending on the distance between the qubits on IBM Fez\", fontsize = 15)\n",
    "plt.xlabel(\"Number of qubits between Alice and Bob\", fontsize = 10)\n",
    "plt.ylabel(\"Output\",fontsize = 10)\n",
    "plt.legend(loc=\"lower right\")\n",
    "plt.ylim(18.85, 858.15)"
   ]
  },
  {
   "cell_type": "code",
   "execution_count": null,
   "id": "3bdd09bf",
   "metadata": {},
   "outputs": [],
   "source": [
    "x = [0, 1, 2, 3, 4, 5, 6, 7, 8, 9]\n",
    "\n",
    "y_1 = [31, 42, 39, 82, 82, 109, 124, 117, 167, 127]\n",
    "y_3 = [55, 70, 125, 193, 176, 233, 264, 280, 275, 273]\n",
    "y_5 = [52, 92, 120, 206, 211, 267, 273, 292, 322, 355]\n",
    "\n",
    "case_1r = plt.scatter(x, y_1, c=\"r\")\n",
    "case_1r.set_label('r = 1')\n",
    "\n",
    "case_3r = plt.scatter(x, y_3, c=\"b\")\n",
    "case_3r.set_label(\"r = 3\")\n",
    "\n",
    "case_5r = plt.scatter(x, y_5, c=\"g\")\n",
    "case_5r.set_label(\"r = 5\")\n",
    "\n",
    "plt.title(\"Error for the protocol 1 (CNOT gates) for input (1,0)\\ndepending on the distance between the qubits on IBM Kingston\", fontsize = 15)\n",
    "plt.xlabel(\"Number of qubits between Alice and Bob\", fontsize = 10)\n",
    "plt.ylabel(\"Output\",fontsize = 10)\n",
    "plt.legend(loc=\"upper right\")\n",
    "plt.ylim(18.85, 858.15)"
   ]
  },
  {
   "cell_type": "markdown",
   "id": "df93c4b4",
   "metadata": {},
   "source": [
    "For the input (A, B) = (1, 0) on simulator with noise"
   ]
  },
  {
   "cell_type": "code",
   "execution_count": null,
   "id": "4371bd3f",
   "metadata": {},
   "outputs": [],
   "source": [
    "x = [0, 1, 2, 3, 4, 5, 6, 7, 8, 9]\n",
    "\n",
    "y_1 = [50, 47, 66, 70, 78, 95, 107, 134, 127, 142]\n",
    "y_3 = [96, 114, 127, 130, 162, 208, 194, 255, 224, 249]\n",
    "y_5 = [145, 164, 176, 204, 232, 264, 287, 300, 305, 315]\n",
    "\n",
    "case_1r = plt.scatter(x, y_1, c=\"r\")\n",
    "case_1r.set_label('r = 1')\n",
    "\n",
    "case_3r = plt.scatter(x, y_3, c=\"b\")\n",
    "case_3r.set_label(\"r = 3\")\n",
    "\n",
    "case_5r = plt.scatter(x, y_5, c=\"g\")\n",
    "case_5r.set_label(\"r = 5\")\n",
    "\n",
    "plt.title(\"Error for the protocol 1 (CNOT gates) for input (1,0)\\ndepending on the distance between the qubits on Fake Fez\", fontsize = 15)\n",
    "plt.xlabel(\"Number of qubits between Alice and Bob\", fontsize = 10)\n",
    "plt.ylabel(\"Output\",fontsize = 10)\n",
    "plt.legend(loc=\"upper right\")\n",
    "plt.ylim(18.85, 858.15)"
   ]
  },
  {
   "cell_type": "markdown",
   "id": "59cd31c0",
   "metadata": {},
   "source": [
    "For the input (A, B) = (1, 1) with optimization level to 3"
   ]
  },
  {
   "cell_type": "code",
   "execution_count": null,
   "id": "3fdd5ca2",
   "metadata": {},
   "outputs": [],
   "source": [
    "import matplotlib.pyplot as plt\n",
    "\n",
    "x = [0, 1, 2, 3, 4, 5, 6, 7, 8, 9]\n",
    "\n",
    "y_1 = [22, 31, 69, 82, 74, 114, 122, 120, 149, 476]\n",
    "y_3 = [43, 54, 70, 213, 157, 274, 263, 287, 327, 277]\n",
    "y_5 = [61, 117, 106, 372, 243, 437, 418, 491, 456, 397]\n",
    "\n",
    "case_1r = plt.scatter(x, y_1, c=\"r\")\n",
    "case_1r.set_label('r = 1')\n",
    "\n",
    "case_3r = plt.scatter(x, y_3, c=\"b\")\n",
    "case_3r.set_label(\"r = 3\")\n",
    "\n",
    "case_5r = plt.scatter(x, y_5, c=\"g\")\n",
    "case_5r.set_label(\"r = 5\")\n",
    "\n",
    "plt.title(\"Error for the protocol 1 (CNOT gates) optimized\\ndepending on the distance between the qubits on IBM Kingston\", fontsize = 15)\n",
    "plt.xlabel(\"Number of qubits between Alice and Bob\", fontsize = 10)\n",
    "plt.ylabel(\"Output\",fontsize = 10)\n",
    "plt.legend(loc=\"lower right\")\n",
    "plt.ylim(18.85, 858.15)"
   ]
  },
  {
   "cell_type": "markdown",
   "id": "52a0753b",
   "metadata": {},
   "source": [
    "### Communication with entanglement swapping"
   ]
  },
  {
   "cell_type": "markdown",
   "id": "f8c49b88",
   "metadata": {},
   "source": [
    "For the input (A, B) = (1, 1) "
   ]
  },
  {
   "cell_type": "code",
   "execution_count": null,
   "id": "3aebf880",
   "metadata": {},
   "outputs": [],
   "source": [
    "x = [2, 4, 6, 8, 10]\n",
    "\n",
    "y_1 = [195, 497, 530, 527, 508]\n",
    "y_3 = [456, 518, 529, 491, 489]\n",
    "y_5 = [523, 549, 549, 505, 535]\n",
    "\n",
    "case_1r = plt.scatter(x, y_1, c=\"r\")\n",
    "case_1r.set_label('r = 1')\n",
    "\n",
    "case_2r = plt.scatter(x, y_3, c=\"b\")\n",
    "case_2r.set_label(\"r = 3\")\n",
    "\n",
    "case_4r = plt.scatter(x, y_5, c=\"g\")\n",
    "case_4r.set_label(\"r = 5\")\n",
    "\n",
    "plt.title(\"Error for the protocol 1 (entanglement swapping) \\ndepending on the distance between the qubits on IBM Fez\", fontsize = 15)\n",
    "plt.xlabel(\"Number of qubits between Alice and Bob\", fontsize = 10)\n",
    "plt.ylabel(\"Number of wrong counts on 1000 shots\",fontsize = 10)\n",
    "plt.legend(loc=\"lower right\")\n",
    "plt.ylim(18.85, 858.15)"
   ]
  },
  {
   "cell_type": "markdown",
   "id": "fdde39e1",
   "metadata": {},
   "source": [
    "### Protocol 2 - Communication with CNOTs"
   ]
  },
  {
   "cell_type": "markdown",
   "id": "62ba2c8b",
   "metadata": {},
   "source": [
    "For the input (A, B) = (1, 1) on qubit 0 up to 10 "
   ]
  },
  {
   "cell_type": "code",
   "execution_count": null,
   "id": "e12da077",
   "metadata": {},
   "outputs": [],
   "source": [
    "x = [0, 1, 2, 3, 4, 5, 6, 7, 8, 9]\n",
    "\n",
    "y_1 = [39, 107, 127, 96, 144, 185, 170, 207, 284, 228]\n",
    "y_3 = [154, 356, 574, 524, 589, 536, 556, 614, 528, 573]\n",
    "y_5 = [225, 624, 744, 640, 644, 605, 624, 633, 577, 561]\n",
    "\n",
    "case_1r = plt.scatter(x, y_1, c=\"r\")\n",
    "case_1r.set_label('r = 1')\n",
    "\n",
    "case_3r = plt.scatter(x, y_3, c=\"b\")\n",
    "case_3r.set_label(\"r = 3\")\n",
    "\n",
    "case_4r = plt.scatter(x, y_5, c=\"g\")\n",
    "case_4r.set_label(\"r = 5\")\n",
    "\n",
    "plt.title(\"Error for the protocol 2 (communication with CNOT gates) \\ndepending on the distance between the qubits on IBM Fez\", fontsize = 15)\n",
    "plt.xlabel(\"Number of qubits between Alice and Bob\", fontsize = 10)\n",
    "plt.ylim(18.85, 858.15)\n",
    "plt.ylabel(\"Number of wrong counts on 1000 shots\",fontsize = 10)\n",
    "plt.legend(loc=\"lower right\")"
   ]
  },
  {
   "cell_type": "markdown",
   "id": "ef60a8b0",
   "metadata": {},
   "source": [
    "On simulator with noise"
   ]
  },
  {
   "cell_type": "code",
   "execution_count": null,
   "id": "a61dea16",
   "metadata": {},
   "outputs": [],
   "source": [
    "x = [1, 2, 3, 4, 5, 6, 7, 8, 9]\n",
    "\n",
    "y_1 = [45, 51, 55, 68, 65, 68, 76, 116, 131]\n",
    "y_3 = [105, 123, 128, 156, 176, 243, 265, 259, 266]\n",
    "y_5 = [157, 173, 204, 248, 243, 317, 344, 344, 381]\n",
    "\n",
    "case_1r = plt.scatter(x, y_1, c=\"r\")\n",
    "case_1r.set_label('r = 1')\n",
    "\n",
    "case_2r = plt.scatter(x, y_3, c=\"b\")\n",
    "case_2r.set_label(\"r = 3\")\n",
    "\n",
    "case_4r = plt.scatter(x, y_5, c=\"g\")\n",
    "case_4r.set_label(\"r = 5\")\n",
    "\n",
    "plt.title(\"Error for the protocol 2 (CNot) \\ndepending on the distance between the qubits on Fake Fez\", fontsize = 15)\n",
    "plt.xlabel(\"Number of qubits between Alice and Bob\", fontsize = 10)\n",
    "plt.ylabel(\"Number of wrong counts on 1000 shots\",fontsize = 10)\n",
    "plt.ylim(28.2, 493.05)\n",
    "plt.legend(loc=\"upper left\")"
   ]
  },
  {
   "cell_type": "markdown",
   "id": "98805230",
   "metadata": {},
   "source": [
    "### Communication with entanglement swapping"
   ]
  },
  {
   "cell_type": "markdown",
   "id": "af5d08fa",
   "metadata": {},
   "source": [
    "For the input (A, B) = (1, 1) "
   ]
  },
  {
   "cell_type": "code",
   "execution_count": null,
   "id": "dc1dc7d8",
   "metadata": {},
   "outputs": [],
   "source": [
    "x = [2, 4, 6, 8, 10]\n",
    "\n",
    "y_1 = [205, 364, 518, 564, 446]\n",
    "y_3 = [417, 514, 519, 460, 590]\n",
    "y_5 = [478, 475, 498, 468, 473]\n",
    "\n",
    "case_1r = plt.scatter(x, y_1, c=\"r\")\n",
    "case_1r.set_label('r = 1')\n",
    "\n",
    "case_2r = plt.scatter(x, y_3, c=\"b\")\n",
    "case_2r.set_label(\"r = 3\")\n",
    "\n",
    "case_4r = plt.scatter(x, y_5, c=\"g\")\n",
    "case_4r.set_label(\"r = 5\")\n",
    "\n",
    "plt.title(\"Error for the protocol 2 (entanglement swapping) \\ndepending on the distance between the qubits on IBM Fez\", fontsize = 15)\n",
    "plt.xlabel(\"Number of qubits between Alice and Bob\", fontsize = 10)\n",
    "plt.ylabel(\"Number of wrong counts on 1000 shots\",fontsize = 10)\n",
    "plt.legend(loc=\"lower right\")\n",
    "plt.ylim(18.85, 858.15)"
   ]
  }
 ],
 "metadata": {
  "kernelspec": {
   "display_name": ".venv",
   "language": "python",
   "name": "python3"
  },
  "language_info": {
   "codemirror_mode": {
    "name": "ipython",
    "version": 3
   },
   "file_extension": ".py",
   "mimetype": "text/x-python",
   "name": "python",
   "nbconvert_exporter": "python",
   "pygments_lexer": "ipython3",
   "version": "3.9.13"
  }
 },
 "nbformat": 4,
 "nbformat_minor": 5
}
